{
 "cells": [
  {
   "cell_type": "markdown",
   "source": [
    "# Obtain data and carry out EDA to understand the dataset"
   ],
   "metadata": {}
  },
  {
   "cell_type": "code",
   "execution_count": null,
   "source": [
    "# Data from http://archive.ics.uci.edu/ml/datasets/Wine\n",
    "!git clone https://gist.github.com/tijptjik/9408623\n",
    "\n",
    "# Read in as a dataframe for EDA\n",
    "wine_df = pd.read_csv('9408623/wine.csv')\n",
    "print(wine_df.head())\n",
    "print(wine_df.describe())\n",
    "print(wine_df.columns)\n",
    "print(wine_df.dtypes)\n",
    "\n",
    "# Read in data as an array to begin analysis. Drop header row as it is # not needed for svm classification.\n",
    "wine_data = np.genfromtxt('9408623/wine.csv', delimiter=',')\n",
    "wine_data = wine_data[1:] \n",
    "\n",
    "print(wine_data[0])"
   ],
   "outputs": [],
   "metadata": {}
  },
  {
   "cell_type": "markdown",
   "source": [
    "# Preprocess data and prepare in LIBSVM format"
   ],
   "metadata": {}
  },
  {
   "cell_type": "code",
   "execution_count": null,
   "source": [
    "with_features_index = []\n",
    "data_with_features_index = []\n",
    "\n",
    "for j in range(len(wine_data)):\n",
    "    each_row = wine_data[j,0:]\n",
    "\n",
    "    with_features_index.append(each_row[0])\n",
    "\n",
    "    for l in range(1,14):\n",
    "        with_features_index.append(str(l)+ \":\" + str(each_row[l]))\n",
    "\n",
    "    data_with_features_index.append(with_features_index)  \n",
    "    with_features_index = []"
   ],
   "outputs": [],
   "metadata": {}
  },
  {
   "cell_type": "markdown",
   "source": [
    "# Split data into train and test datasets"
   ],
   "metadata": {}
  },
  {
   "cell_type": "code",
   "execution_count": null,
   "source": [
    "# Split into train and test datasets\n",
    "train_data, test_data = train_test_split(data_with_features_index, test_size=0.33, random_state=42)\n",
    "\n",
    "# Convert to Numpy array\n",
    "train_data = np.asarray(train_data)\n",
    "test_data = np.asarray(test_data)\n",
    "    \n",
    "# Get y_label from test data to compare against model result later\n",
    "y_label = np.array(test_data[:,0], dtype=np.float32)\n",
    "y_label\n",
    "\n",
    "# Save train and test data to files\n",
    "np.savetxt('wine_svm_train_data', train_data, delimiter=\" \", fmt=\"%s\") \n",
    "np.savetxt('wine_svm_test_data', test_data, delimiter=\" \", fmt=\"%s\") "
   ],
   "outputs": [],
   "metadata": {}
  },
  {
   "cell_type": "markdown",
   "source": [
    "# Train the model"
   ],
   "metadata": {}
  },
  {
   "cell_type": "code",
   "execution_count": null,
   "source": [
    "def svm_model(train_pathname, test_pathname):\n",
    "\n",
    "  # Validate that train and test files exist\n",
    "  assert os.path.exists(train_pathname),\"training file not found\"\n",
    "  file_name = os.path.split(train_pathname)[1]\n",
    "\n",
    "  # Create files to store scaled train data, range metadata for scaled data, and trained model\n",
    "  scaled_file = file_name + \".scale\"\n",
    "  model_file = file_name + \".model\"\n",
    "  range_file = file_name + \".range\" # store scale range for train data to be used to scale test data\n",
    "\n",
    "  file_name = os.path.split(test_pathname)[1]\n",
    "  assert os.path.exists(test_pathname),\"testing file not found\"\n",
    "\n",
    "  # Create file for scaled test data and predicted output\n",
    "  scaled_test_file = file_name + \".scale\"\n",
    "  predict_test_file = file_name + \".predict\"\n",
    "\n",
    "  # Scaling by range [-1, 1]\n",
    "  cmd = '{0} -l {4} -u {5} -s \"{1}\" \"{2}\" > \"{3}\"'.format(svmscale_exe, range_file, train_pathname, scaled_file, -1, 1)\n",
    "  print('Scaling train data')\n",
    "  Popen(cmd, shell = True, stdout = PIPE).communicate()\n",
    "\n",
    "  # Tuning c and g hyperparameters using a 5-fold grid search\n",
    "  cmd = '{0} -v {4} -svmtrain \"{1}\" -gnuplot \"{2}\" \"{3}\"'.format(grid_py, svmtrain_exe, \"null\", scaled_file, 5)\n",
    "  print('Cross validation')\n",
    "  f = Popen(cmd, shell = True, stdout = PIPE).stdout\n",
    "\n",
    "  line = ''\n",
    "  while True:\n",
    "      last_line = line\n",
    "      line = f.readline()\n",
    "      if not line: break\n",
    "  c,g,rate = map(float,last_line.split())\n",
    "\n",
    "  print('Best c={0}, g={1} CV rate={2}'.format(c,g,rate))\n",
    "\n",
    "  cmd = '{0} -c {1} -g {2} \"{3}\" \"{4}\"'.format(svmtrain_exe,c,g,scaled_file,model_file)\n",
    "  print('Training model')\n",
    "  Popen(cmd, shell = True, stdout = PIPE).communicate()\n",
    "\n",
    "  print('Output model: {0}'.format(model_file))\n",
    "\n",
    "  cmd = '{0} -l {4} -u {5} -r \"{1}\" \"{2}\" > \"{3}\"'.format(svmscale_exe, range_file, test_pathname, scaled_test_file, -1, 1)\n",
    "  print('Scaling test data')\n",
    "  Popen(cmd, shell = True, stdout = PIPE).communicate()\n",
    "\n",
    "  cmd = '{0} \"{1}\" \"{2}\" \"{3}\"'.format(svmpredict_exe, scaled_test_file, model_file, predict_test_file)\n",
    "  print('Testing model\\n')\n",
    "  f = Popen(cmd, shell = True, stdout = PIPE).stdout\n",
    "  result = (str(f.readline()).replace(\"\\\\n'\", '')).replace(\"b'\", '')\n",
    "  print(\"{} \\n\".format(result))\n",
    "\n",
    "  print('Output prediction: {0}'.format(predict_test_file))"
   ],
   "outputs": [],
   "metadata": {}
  },
  {
   "cell_type": "markdown",
   "source": [
    "# Test model on test data"
   ],
   "metadata": {}
  },
  {
   "cell_type": "code",
   "execution_count": null,
   "source": [
    "svm_model(wine_svm_data_train_file, wine_svm_data_test_file)"
   ],
   "outputs": [],
   "metadata": {}
  },
  {
   "cell_type": "markdown",
   "source": [
    "# Evaluate the performance of the model"
   ],
   "metadata": {}
  },
  {
   "cell_type": "code",
   "execution_count": null,
   "source": [
    "def evaluate_model(y_label, predict_test_file):\n",
    "\n",
    "\n",
    "  # Creating the y_label for the confusion matrix\n",
    "  f=open(predict_test_file,'r')\n",
    "  y_pred = np.genfromtxt(f,dtype = 'float')\n",
    "\n",
    "  # Confusion matrix\n",
    "  cf_matrix = confusion_matrix(y_label, y_pred)\n",
    "\n",
    "  # Plot heatmap\n",
    "  ax = sns.heatmap(cf_matrix/np.sum(cf_matrix), annot=True, \n",
    "          fmt='.2%', cmap='Blues')\n",
    "\n",
    "  # Format plot\n",
    "  ax.set_title('Seaborn Confusion Matrix with wine class labels\\n\\n');\n",
    "  ax.set_xlabel('\\nPredicted action')\n",
    "  ax.set_ylabel('Actual action ');\n",
    "\n",
    "  # Ticket labels - List must be in alphabetical order\n",
    "  ax.xaxis.set_ticklabels(['1', '2', '3'])\n",
    "  ax.yaxis.set_ticklabels(['1', '2', '3'])\n",
    "\n",
    "  # Display the visualization of the Confusion Matrix.\n",
    "  plt.show()\n",
    "\n"
   ],
   "outputs": [],
   "metadata": {}
  },
  {
   "cell_type": "code",
   "execution_count": null,
   "source": [
    " evaluate_model(y_label, 'wine_svm_test_data.predict')"
   ],
   "outputs": [],
   "metadata": {}
  },
  {
   "cell_type": "code",
   "execution_count": null,
   "source": [],
   "outputs": [],
   "metadata": {}
  }
 ],
 "metadata": {
  "orig_nbformat": 4,
  "language_info": {
   "name": "python"
  }
 },
 "nbformat": 4,
 "nbformat_minor": 2
}