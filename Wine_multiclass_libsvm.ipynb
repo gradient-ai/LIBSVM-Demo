{
 "cells": [
  {
   "cell_type": "code",
   "execution_count": 1,
   "metadata": {
    "execution": {
     "iopub.execute_input": "2022-07-20T14:46:20.881961Z",
     "iopub.status.busy": "2022-07-20T14:46:20.880705Z",
     "iopub.status.idle": "2022-07-20T14:46:20.888867Z",
     "shell.execute_reply": "2022-07-20T14:46:20.886726Z",
     "shell.execute_reply.started": "2022-07-20T14:46:20.881804Z"
    },
    "id": "wBaM_haoiLC4"
   },
   "outputs": [],
   "source": [
    "#!/usr/bin/env python"
   ]
  },
  {
   "cell_type": "markdown",
   "metadata": {
    "id": "cjxnQZDy-da2"
   },
   "source": [
    "### Install LibSVM Python library"
   ]
  },
  {
   "cell_type": "code",
   "execution_count": 2,
   "metadata": {
    "colab": {
     "base_uri": "https://localhost:8080/"
    },
    "execution": {
     "iopub.execute_input": "2022-07-20T14:46:20.894025Z",
     "iopub.status.busy": "2022-07-20T14:46:20.893012Z",
     "iopub.status.idle": "2022-07-20T14:46:23.179008Z",
     "shell.execute_reply": "2022-07-20T14:46:23.177514Z",
     "shell.execute_reply.started": "2022-07-20T14:46:20.893888Z"
    },
    "id": "V0jiyPeQTau-",
    "outputId": "36e49260-3e1a-4de4-9df4-83404b243439"
   },
   "outputs": [
    {
     "name": "stdout",
     "output_type": "stream",
     "text": [
      "fatal: destination path 'libsvm' already exists and is not an empty directory.\n",
      "/notebooks/libsvm\n",
      "make: Nothing to be done for 'all'.\n",
      "make: *** No rule to make target 'install'.  Stop.\n",
      "/notebooks/libsvm/python\n",
      "make -C .. lib\n",
      "make[1]: Entering directory '/notebooks/libsvm'\n",
      "if [ \"Linux\" = \"Darwin\" ]; then \\\n",
      "\tSHARED_LIB_FLAG=\"-dynamiclib -Wl,-install_name,libsvm.so.2\"; \\\n",
      "else \\\n",
      "\tSHARED_LIB_FLAG=\"-shared -Wl,-soname,libsvm.so.2\"; \\\n",
      "fi; \\\n",
      "g++ ${SHARED_LIB_FLAG} svm.o -o libsvm.so.2\n",
      "make[1]: Leaving directory '/notebooks/libsvm'\n",
      "/notebooks\n"
     ]
    }
   ],
   "source": [
    "!git clone https://github.com/cjlin1/libsvm\n",
    "%cd libsvm/\n",
    "!make && make install\n",
    "%cd /notebooks/libsvm/python/\n",
    "!make\n",
    "import sys\n",
    "sys.path.append('/notebooks/libsvm/python')\n",
    "%cd /notebooks"
   ]
  },
  {
   "cell_type": "markdown",
   "metadata": {
    "id": "Gmw2xbek-xNU"
   },
   "source": [
    "### Import relevant Python libraries"
   ]
  },
  {
   "cell_type": "code",
   "execution_count": 3,
   "metadata": {
    "execution": {
     "iopub.execute_input": "2022-07-20T14:46:23.181404Z",
     "iopub.status.busy": "2022-07-20T14:46:23.180950Z",
     "iopub.status.idle": "2022-07-20T14:46:25.173462Z",
     "shell.execute_reply": "2022-07-20T14:46:25.172092Z",
     "shell.execute_reply.started": "2022-07-20T14:46:23.181361Z"
    },
    "id": "WXnkcODMTYMF"
   },
   "outputs": [],
   "source": [
    "import os\n",
    "from subprocess import *\n",
    "import numpy as np\n",
    "import pandas as pd\n",
    "import matplotlib.pyplot as plt\n",
    "import seaborn as sns\n",
    "from sklearn.metrics import confusion_matrix\n",
    "from sklearn.model_selection import train_test_split"
   ]
  },
  {
   "cell_type": "markdown",
   "metadata": {
    "id": "FHsOsqZ9_Ocz"
   },
   "source": [
    "### Download dataset, the UCI wine dataset"
   ]
  },
  {
   "cell_type": "code",
   "execution_count": 4,
   "metadata": {
    "colab": {
     "base_uri": "https://localhost:8080/"
    },
    "execution": {
     "iopub.execute_input": "2022-07-20T14:46:25.177060Z",
     "iopub.status.busy": "2022-07-20T14:46:25.176552Z",
     "iopub.status.idle": "2022-07-20T14:46:27.808371Z",
     "shell.execute_reply": "2022-07-20T14:46:27.806740Z",
     "shell.execute_reply.started": "2022-07-20T14:46:25.177033Z"
    },
    "id": "APqGdSWgWjwm",
    "outputId": "eef73e9c-256e-4dd2-e433-2c6c18b33911"
   },
   "outputs": [
    {
     "name": "stdout",
     "output_type": "stream",
     "text": [
      "Cloning into '9408623'...\n",
      "remote: Enumerating objects: 3, done.\u001b[K\n",
      "remote: Total 3 (delta 0), reused 0 (delta 0), pack-reused 3\u001b[K\n",
      "Unpacking objects: 100% (3/3), 4.30 KiB | 22.00 KiB/s, done.\n"
     ]
    }
   ],
   "source": [
    "# Data from http://archive.ics.uci.edu/ml/datasets/Wine\n",
    "\n",
    "!git clone https://gist.github.com/tijptjik/9408623"
   ]
  },
  {
   "cell_type": "code",
   "execution_count": 5,
   "metadata": {
    "colab": {
     "base_uri": "https://localhost:8080/"
    },
    "execution": {
     "iopub.execute_input": "2022-07-20T14:46:27.810996Z",
     "iopub.status.busy": "2022-07-20T14:46:27.810628Z",
     "iopub.status.idle": "2022-07-20T14:46:28.588480Z",
     "shell.execute_reply": "2022-07-20T14:46:28.586786Z",
     "shell.execute_reply.started": "2022-07-20T14:46:27.810951Z"
    },
    "id": "8LxBRWQ_T24b",
    "outputId": "884d7e43-1a7c-4ff2-9edb-7ddf51620a3e"
   },
   "outputs": [
    {
     "name": "stdout",
     "output_type": "stream",
     "text": [
      "9408623  Wine_multiclass_libsvm.ipynb  libsvm\n"
     ]
    }
   ],
   "source": [
    "# Confirm that LibSVM package and the wine dataset have been clones properly into the directory\n",
    "!ls"
   ]
  },
  {
   "cell_type": "markdown",
   "metadata": {
    "id": "OfDWcp3P_aRa"
   },
   "source": [
    "### Read in data"
   ]
  },
  {
   "cell_type": "code",
   "execution_count": 6,
   "metadata": {
    "execution": {
     "iopub.execute_input": "2022-07-20T14:46:28.591368Z",
     "iopub.status.busy": "2022-07-20T14:46:28.590821Z",
     "iopub.status.idle": "2022-07-20T14:46:28.602893Z",
     "shell.execute_reply": "2022-07-20T14:46:28.600899Z",
     "shell.execute_reply.started": "2022-07-20T14:46:28.591306Z"
    },
    "id": "FvPyBN-zTQZG"
   },
   "outputs": [],
   "source": [
    "wine_data = np.genfromtxt('9408623/wine.csv', delimiter=',')"
   ]
  },
  {
   "cell_type": "code",
   "execution_count": 7,
   "metadata": {
    "colab": {
     "base_uri": "https://localhost:8080/"
    },
    "execution": {
     "iopub.execute_input": "2022-07-20T14:46:28.604982Z",
     "iopub.status.busy": "2022-07-20T14:46:28.604536Z",
     "iopub.status.idle": "2022-07-20T14:46:28.613099Z",
     "shell.execute_reply": "2022-07-20T14:46:28.611285Z",
     "shell.execute_reply.started": "2022-07-20T14:46:28.604952Z"
    },
    "id": "Lc8fvkT3fn6Z",
    "outputId": "8f8ae2a6-805c-41f9-9651-bb68fc29df42"
   },
   "outputs": [
    {
     "name": "stdout",
     "output_type": "stream",
     "text": [
      "[nan nan nan nan nan nan nan nan nan nan nan nan nan nan]\n"
     ]
    }
   ],
   "source": [
    "# Header row is blank because it's a string data type, and not float which is the default set\n",
    "\n",
    "print(wine_data[0])"
   ]
  },
  {
   "cell_type": "code",
   "execution_count": 8,
   "metadata": {
    "execution": {
     "iopub.execute_input": "2022-07-20T14:46:28.615413Z",
     "iopub.status.busy": "2022-07-20T14:46:28.614900Z",
     "iopub.status.idle": "2022-07-20T14:46:28.622521Z",
     "shell.execute_reply": "2022-07-20T14:46:28.620794Z",
     "shell.execute_reply.started": "2022-07-20T14:46:28.615364Z"
    },
    "id": "bFPklkVZ7nIv"
   },
   "outputs": [],
   "source": [
    "# Drop header row\n",
    "\n",
    "wine_data = wine_data[1:] "
   ]
  },
  {
   "cell_type": "code",
   "execution_count": 9,
   "metadata": {
    "colab": {
     "base_uri": "https://localhost:8080/"
    },
    "execution": {
     "iopub.execute_input": "2022-07-20T14:46:28.627849Z",
     "iopub.status.busy": "2022-07-20T14:46:28.627442Z",
     "iopub.status.idle": "2022-07-20T14:46:28.642705Z",
     "shell.execute_reply": "2022-07-20T14:46:28.640818Z",
     "shell.execute_reply.started": "2022-07-20T14:46:28.627821Z"
    },
    "id": "LQAIoatv7od9",
    "outputId": "2837ffc7-4ab4-4e24-fd31-6ad312be1405"
   },
   "outputs": [
    {
     "data": {
      "text/plain": [
       "array([1.000e+00, 1.423e+01, 1.710e+00, 2.430e+00, 1.560e+01, 1.270e+02,\n",
       "       2.800e+00, 3.060e+00, 2.800e-01, 2.290e+00, 5.640e+00, 1.040e+00,\n",
       "       3.920e+00, 1.065e+03])"
      ]
     },
     "execution_count": 9,
     "metadata": {},
     "output_type": "execute_result"
    }
   ],
   "source": [
    "wine_data[0]"
   ]
  },
  {
   "cell_type": "markdown",
   "metadata": {
    "id": "zaU7QssX_pLD"
   },
   "source": [
    "### EDA"
   ]
  },
  {
   "cell_type": "code",
   "execution_count": 10,
   "metadata": {
    "execution": {
     "iopub.execute_input": "2022-07-20T14:46:28.645336Z",
     "iopub.status.busy": "2022-07-20T14:46:28.644879Z",
     "iopub.status.idle": "2022-07-20T14:46:28.661139Z",
     "shell.execute_reply": "2022-07-20T14:46:28.659432Z",
     "shell.execute_reply.started": "2022-07-20T14:46:28.645301Z"
    },
    "id": "IJbVckeq7Ocy"
   },
   "outputs": [],
   "source": [
    "# Read in full dataset, with headers for exploratory data analysis\n",
    "\n",
    "wine_df = pd.read_csv('9408623/wine.csv')"
   ]
  },
  {
   "cell_type": "code",
   "execution_count": 11,
   "metadata": {
    "colab": {
     "base_uri": "https://localhost:8080/",
     "height": 0
    },
    "execution": {
     "iopub.execute_input": "2022-07-20T14:46:28.663877Z",
     "iopub.status.busy": "2022-07-20T14:46:28.663408Z",
     "iopub.status.idle": "2022-07-20T14:46:28.689224Z",
     "shell.execute_reply": "2022-07-20T14:46:28.687600Z",
     "shell.execute_reply.started": "2022-07-20T14:46:28.663877Z"
    },
    "id": "WKfvqVll8L2F",
    "outputId": "075a07f6-0a99-4fcf-f866-bcca37ae9488"
   },
   "outputs": [
    {
     "data": {
      "text/html": [
       "<div>\n",
       "<style scoped>\n",
       "    .dataframe tbody tr th:only-of-type {\n",
       "        vertical-align: middle;\n",
       "    }\n",
       "\n",
       "    .dataframe tbody tr th {\n",
       "        vertical-align: top;\n",
       "    }\n",
       "\n",
       "    .dataframe thead th {\n",
       "        text-align: right;\n",
       "    }\n",
       "</style>\n",
       "<table border=\"1\" class=\"dataframe\">\n",
       "  <thead>\n",
       "    <tr style=\"text-align: right;\">\n",
       "      <th></th>\n",
       "      <th>Wine</th>\n",
       "      <th>Alcohol</th>\n",
       "      <th>Malic.acid</th>\n",
       "      <th>Ash</th>\n",
       "      <th>Acl</th>\n",
       "      <th>Mg</th>\n",
       "      <th>Phenols</th>\n",
       "      <th>Flavanoids</th>\n",
       "      <th>Nonflavanoid.phenols</th>\n",
       "      <th>Proanth</th>\n",
       "      <th>Color.int</th>\n",
       "      <th>Hue</th>\n",
       "      <th>OD</th>\n",
       "      <th>Proline</th>\n",
       "    </tr>\n",
       "  </thead>\n",
       "  <tbody>\n",
       "    <tr>\n",
       "      <th>0</th>\n",
       "      <td>1</td>\n",
       "      <td>14.23</td>\n",
       "      <td>1.71</td>\n",
       "      <td>2.43</td>\n",
       "      <td>15.6</td>\n",
       "      <td>127</td>\n",
       "      <td>2.80</td>\n",
       "      <td>3.06</td>\n",
       "      <td>0.28</td>\n",
       "      <td>2.29</td>\n",
       "      <td>5.64</td>\n",
       "      <td>1.04</td>\n",
       "      <td>3.92</td>\n",
       "      <td>1065</td>\n",
       "    </tr>\n",
       "    <tr>\n",
       "      <th>1</th>\n",
       "      <td>1</td>\n",
       "      <td>13.20</td>\n",
       "      <td>1.78</td>\n",
       "      <td>2.14</td>\n",
       "      <td>11.2</td>\n",
       "      <td>100</td>\n",
       "      <td>2.65</td>\n",
       "      <td>2.76</td>\n",
       "      <td>0.26</td>\n",
       "      <td>1.28</td>\n",
       "      <td>4.38</td>\n",
       "      <td>1.05</td>\n",
       "      <td>3.40</td>\n",
       "      <td>1050</td>\n",
       "    </tr>\n",
       "    <tr>\n",
       "      <th>2</th>\n",
       "      <td>1</td>\n",
       "      <td>13.16</td>\n",
       "      <td>2.36</td>\n",
       "      <td>2.67</td>\n",
       "      <td>18.6</td>\n",
       "      <td>101</td>\n",
       "      <td>2.80</td>\n",
       "      <td>3.24</td>\n",
       "      <td>0.30</td>\n",
       "      <td>2.81</td>\n",
       "      <td>5.68</td>\n",
       "      <td>1.03</td>\n",
       "      <td>3.17</td>\n",
       "      <td>1185</td>\n",
       "    </tr>\n",
       "    <tr>\n",
       "      <th>3</th>\n",
       "      <td>1</td>\n",
       "      <td>14.37</td>\n",
       "      <td>1.95</td>\n",
       "      <td>2.50</td>\n",
       "      <td>16.8</td>\n",
       "      <td>113</td>\n",
       "      <td>3.85</td>\n",
       "      <td>3.49</td>\n",
       "      <td>0.24</td>\n",
       "      <td>2.18</td>\n",
       "      <td>7.80</td>\n",
       "      <td>0.86</td>\n",
       "      <td>3.45</td>\n",
       "      <td>1480</td>\n",
       "    </tr>\n",
       "    <tr>\n",
       "      <th>4</th>\n",
       "      <td>1</td>\n",
       "      <td>13.24</td>\n",
       "      <td>2.59</td>\n",
       "      <td>2.87</td>\n",
       "      <td>21.0</td>\n",
       "      <td>118</td>\n",
       "      <td>2.80</td>\n",
       "      <td>2.69</td>\n",
       "      <td>0.39</td>\n",
       "      <td>1.82</td>\n",
       "      <td>4.32</td>\n",
       "      <td>1.04</td>\n",
       "      <td>2.93</td>\n",
       "      <td>735</td>\n",
       "    </tr>\n",
       "  </tbody>\n",
       "</table>\n",
       "</div>"
      ],
      "text/plain": [
       "   Wine  Alcohol  Malic.acid   Ash   Acl   Mg  Phenols  Flavanoids  \\\n",
       "0     1    14.23        1.71  2.43  15.6  127     2.80        3.06   \n",
       "1     1    13.20        1.78  2.14  11.2  100     2.65        2.76   \n",
       "2     1    13.16        2.36  2.67  18.6  101     2.80        3.24   \n",
       "3     1    14.37        1.95  2.50  16.8  113     3.85        3.49   \n",
       "4     1    13.24        2.59  2.87  21.0  118     2.80        2.69   \n",
       "\n",
       "   Nonflavanoid.phenols  Proanth  Color.int   Hue    OD  Proline  \n",
       "0                  0.28     2.29       5.64  1.04  3.92     1065  \n",
       "1                  0.26     1.28       4.38  1.05  3.40     1050  \n",
       "2                  0.30     2.81       5.68  1.03  3.17     1185  \n",
       "3                  0.24     2.18       7.80  0.86  3.45     1480  \n",
       "4                  0.39     1.82       4.32  1.04  2.93      735  "
      ]
     },
     "execution_count": 11,
     "metadata": {},
     "output_type": "execute_result"
    }
   ],
   "source": [
    "wine_df.head()"
   ]
  },
  {
   "cell_type": "code",
   "execution_count": 12,
   "metadata": {
    "colab": {
     "base_uri": "https://localhost:8080/",
     "height": 0
    },
    "execution": {
     "iopub.execute_input": "2022-07-20T14:46:28.692139Z",
     "iopub.status.busy": "2022-07-20T14:46:28.691119Z",
     "iopub.status.idle": "2022-07-20T14:46:28.751613Z",
     "shell.execute_reply": "2022-07-20T14:46:28.750569Z",
     "shell.execute_reply.started": "2022-07-20T14:46:28.692087Z"
    },
    "id": "qvFR8qUp8P0c",
    "outputId": "cc2ef992-d286-4086-fb40-591aa76eb3e8"
   },
   "outputs": [
    {
     "data": {
      "text/html": [
       "<div>\n",
       "<style scoped>\n",
       "    .dataframe tbody tr th:only-of-type {\n",
       "        vertical-align: middle;\n",
       "    }\n",
       "\n",
       "    .dataframe tbody tr th {\n",
       "        vertical-align: top;\n",
       "    }\n",
       "\n",
       "    .dataframe thead th {\n",
       "        text-align: right;\n",
       "    }\n",
       "</style>\n",
       "<table border=\"1\" class=\"dataframe\">\n",
       "  <thead>\n",
       "    <tr style=\"text-align: right;\">\n",
       "      <th></th>\n",
       "      <th>Wine</th>\n",
       "      <th>Alcohol</th>\n",
       "      <th>Malic.acid</th>\n",
       "      <th>Ash</th>\n",
       "      <th>Acl</th>\n",
       "      <th>Mg</th>\n",
       "      <th>Phenols</th>\n",
       "      <th>Flavanoids</th>\n",
       "      <th>Nonflavanoid.phenols</th>\n",
       "      <th>Proanth</th>\n",
       "      <th>Color.int</th>\n",
       "      <th>Hue</th>\n",
       "      <th>OD</th>\n",
       "      <th>Proline</th>\n",
       "    </tr>\n",
       "  </thead>\n",
       "  <tbody>\n",
       "    <tr>\n",
       "      <th>count</th>\n",
       "      <td>178.000000</td>\n",
       "      <td>178.000000</td>\n",
       "      <td>178.000000</td>\n",
       "      <td>178.000000</td>\n",
       "      <td>178.000000</td>\n",
       "      <td>178.000000</td>\n",
       "      <td>178.000000</td>\n",
       "      <td>178.000000</td>\n",
       "      <td>178.000000</td>\n",
       "      <td>178.000000</td>\n",
       "      <td>178.000000</td>\n",
       "      <td>178.000000</td>\n",
       "      <td>178.000000</td>\n",
       "      <td>178.000000</td>\n",
       "    </tr>\n",
       "    <tr>\n",
       "      <th>mean</th>\n",
       "      <td>1.938202</td>\n",
       "      <td>13.000618</td>\n",
       "      <td>2.336348</td>\n",
       "      <td>2.366517</td>\n",
       "      <td>19.494944</td>\n",
       "      <td>99.741573</td>\n",
       "      <td>2.295112</td>\n",
       "      <td>2.029270</td>\n",
       "      <td>0.361854</td>\n",
       "      <td>1.590899</td>\n",
       "      <td>5.058090</td>\n",
       "      <td>0.957449</td>\n",
       "      <td>2.611685</td>\n",
       "      <td>746.893258</td>\n",
       "    </tr>\n",
       "    <tr>\n",
       "      <th>std</th>\n",
       "      <td>0.775035</td>\n",
       "      <td>0.811827</td>\n",
       "      <td>1.117146</td>\n",
       "      <td>0.274344</td>\n",
       "      <td>3.339564</td>\n",
       "      <td>14.282484</td>\n",
       "      <td>0.625851</td>\n",
       "      <td>0.998859</td>\n",
       "      <td>0.124453</td>\n",
       "      <td>0.572359</td>\n",
       "      <td>2.318286</td>\n",
       "      <td>0.228572</td>\n",
       "      <td>0.709990</td>\n",
       "      <td>314.907474</td>\n",
       "    </tr>\n",
       "    <tr>\n",
       "      <th>min</th>\n",
       "      <td>1.000000</td>\n",
       "      <td>11.030000</td>\n",
       "      <td>0.740000</td>\n",
       "      <td>1.360000</td>\n",
       "      <td>10.600000</td>\n",
       "      <td>70.000000</td>\n",
       "      <td>0.980000</td>\n",
       "      <td>0.340000</td>\n",
       "      <td>0.130000</td>\n",
       "      <td>0.410000</td>\n",
       "      <td>1.280000</td>\n",
       "      <td>0.480000</td>\n",
       "      <td>1.270000</td>\n",
       "      <td>278.000000</td>\n",
       "    </tr>\n",
       "    <tr>\n",
       "      <th>25%</th>\n",
       "      <td>1.000000</td>\n",
       "      <td>12.362500</td>\n",
       "      <td>1.602500</td>\n",
       "      <td>2.210000</td>\n",
       "      <td>17.200000</td>\n",
       "      <td>88.000000</td>\n",
       "      <td>1.742500</td>\n",
       "      <td>1.205000</td>\n",
       "      <td>0.270000</td>\n",
       "      <td>1.250000</td>\n",
       "      <td>3.220000</td>\n",
       "      <td>0.782500</td>\n",
       "      <td>1.937500</td>\n",
       "      <td>500.500000</td>\n",
       "    </tr>\n",
       "    <tr>\n",
       "      <th>50%</th>\n",
       "      <td>2.000000</td>\n",
       "      <td>13.050000</td>\n",
       "      <td>1.865000</td>\n",
       "      <td>2.360000</td>\n",
       "      <td>19.500000</td>\n",
       "      <td>98.000000</td>\n",
       "      <td>2.355000</td>\n",
       "      <td>2.135000</td>\n",
       "      <td>0.340000</td>\n",
       "      <td>1.555000</td>\n",
       "      <td>4.690000</td>\n",
       "      <td>0.965000</td>\n",
       "      <td>2.780000</td>\n",
       "      <td>673.500000</td>\n",
       "    </tr>\n",
       "    <tr>\n",
       "      <th>75%</th>\n",
       "      <td>3.000000</td>\n",
       "      <td>13.677500</td>\n",
       "      <td>3.082500</td>\n",
       "      <td>2.557500</td>\n",
       "      <td>21.500000</td>\n",
       "      <td>107.000000</td>\n",
       "      <td>2.800000</td>\n",
       "      <td>2.875000</td>\n",
       "      <td>0.437500</td>\n",
       "      <td>1.950000</td>\n",
       "      <td>6.200000</td>\n",
       "      <td>1.120000</td>\n",
       "      <td>3.170000</td>\n",
       "      <td>985.000000</td>\n",
       "    </tr>\n",
       "    <tr>\n",
       "      <th>max</th>\n",
       "      <td>3.000000</td>\n",
       "      <td>14.830000</td>\n",
       "      <td>5.800000</td>\n",
       "      <td>3.230000</td>\n",
       "      <td>30.000000</td>\n",
       "      <td>162.000000</td>\n",
       "      <td>3.880000</td>\n",
       "      <td>5.080000</td>\n",
       "      <td>0.660000</td>\n",
       "      <td>3.580000</td>\n",
       "      <td>13.000000</td>\n",
       "      <td>1.710000</td>\n",
       "      <td>4.000000</td>\n",
       "      <td>1680.000000</td>\n",
       "    </tr>\n",
       "  </tbody>\n",
       "</table>\n",
       "</div>"
      ],
      "text/plain": [
       "             Wine     Alcohol  Malic.acid         Ash         Acl          Mg  \\\n",
       "count  178.000000  178.000000  178.000000  178.000000  178.000000  178.000000   \n",
       "mean     1.938202   13.000618    2.336348    2.366517   19.494944   99.741573   \n",
       "std      0.775035    0.811827    1.117146    0.274344    3.339564   14.282484   \n",
       "min      1.000000   11.030000    0.740000    1.360000   10.600000   70.000000   \n",
       "25%      1.000000   12.362500    1.602500    2.210000   17.200000   88.000000   \n",
       "50%      2.000000   13.050000    1.865000    2.360000   19.500000   98.000000   \n",
       "75%      3.000000   13.677500    3.082500    2.557500   21.500000  107.000000   \n",
       "max      3.000000   14.830000    5.800000    3.230000   30.000000  162.000000   \n",
       "\n",
       "          Phenols  Flavanoids  Nonflavanoid.phenols     Proanth   Color.int  \\\n",
       "count  178.000000  178.000000            178.000000  178.000000  178.000000   \n",
       "mean     2.295112    2.029270              0.361854    1.590899    5.058090   \n",
       "std      0.625851    0.998859              0.124453    0.572359    2.318286   \n",
       "min      0.980000    0.340000              0.130000    0.410000    1.280000   \n",
       "25%      1.742500    1.205000              0.270000    1.250000    3.220000   \n",
       "50%      2.355000    2.135000              0.340000    1.555000    4.690000   \n",
       "75%      2.800000    2.875000              0.437500    1.950000    6.200000   \n",
       "max      3.880000    5.080000              0.660000    3.580000   13.000000   \n",
       "\n",
       "              Hue          OD      Proline  \n",
       "count  178.000000  178.000000   178.000000  \n",
       "mean     0.957449    2.611685   746.893258  \n",
       "std      0.228572    0.709990   314.907474  \n",
       "min      0.480000    1.270000   278.000000  \n",
       "25%      0.782500    1.937500   500.500000  \n",
       "50%      0.965000    2.780000   673.500000  \n",
       "75%      1.120000    3.170000   985.000000  \n",
       "max      1.710000    4.000000  1680.000000  "
      ]
     },
     "execution_count": 12,
     "metadata": {},
     "output_type": "execute_result"
    }
   ],
   "source": [
    "wine_df.describe()"
   ]
  },
  {
   "cell_type": "code",
   "execution_count": 13,
   "metadata": {
    "colab": {
     "base_uri": "https://localhost:8080/"
    },
    "execution": {
     "iopub.execute_input": "2022-07-20T14:46:28.753250Z",
     "iopub.status.busy": "2022-07-20T14:46:28.753072Z",
     "iopub.status.idle": "2022-07-20T14:46:28.762724Z",
     "shell.execute_reply": "2022-07-20T14:46:28.760865Z",
     "shell.execute_reply.started": "2022-07-20T14:46:28.753250Z"
    },
    "id": "Aeek1xrF8XGx",
    "outputId": "f9f0a462-683d-4148-c837-99243cdc7d38"
   },
   "outputs": [
    {
     "data": {
      "text/plain": [
       "Index(['Wine', 'Alcohol', 'Malic.acid', 'Ash', 'Acl', 'Mg', 'Phenols',\n",
       "       'Flavanoids', 'Nonflavanoid.phenols', 'Proanth', 'Color.int', 'Hue',\n",
       "       'OD', 'Proline'],\n",
       "      dtype='object')"
      ]
     },
     "execution_count": 13,
     "metadata": {},
     "output_type": "execute_result"
    }
   ],
   "source": [
    "wine_df.columns"
   ]
  },
  {
   "cell_type": "code",
   "execution_count": 14,
   "metadata": {
    "colab": {
     "base_uri": "https://localhost:8080/"
    },
    "execution": {
     "iopub.execute_input": "2022-07-20T14:46:28.764717Z",
     "iopub.status.busy": "2022-07-20T14:46:28.764319Z",
     "iopub.status.idle": "2022-07-20T14:46:28.777134Z",
     "shell.execute_reply": "2022-07-20T14:46:28.775029Z",
     "shell.execute_reply.started": "2022-07-20T14:46:28.764687Z"
    },
    "id": "PWVDA4sg8T1z",
    "outputId": "2e0ae009-1e70-4ecd-adff-534bf445c587"
   },
   "outputs": [
    {
     "data": {
      "text/plain": [
       "Wine                      int64\n",
       "Alcohol                 float64\n",
       "Malic.acid              float64\n",
       "Ash                     float64\n",
       "Acl                     float64\n",
       "Mg                        int64\n",
       "Phenols                 float64\n",
       "Flavanoids              float64\n",
       "Nonflavanoid.phenols    float64\n",
       "Proanth                 float64\n",
       "Color.int               float64\n",
       "Hue                     float64\n",
       "OD                      float64\n",
       "Proline                   int64\n",
       "dtype: object"
      ]
     },
     "execution_count": 14,
     "metadata": {},
     "output_type": "execute_result"
    }
   ],
   "source": [
    "wine_df.dtypes"
   ]
  },
  {
   "cell_type": "code",
   "execution_count": 15,
   "metadata": {
    "colab": {
     "base_uri": "https://localhost:8080/"
    },
    "execution": {
     "iopub.execute_input": "2022-07-20T14:46:28.779570Z",
     "iopub.status.busy": "2022-07-20T14:46:28.779088Z",
     "iopub.status.idle": "2022-07-20T14:46:28.789196Z",
     "shell.execute_reply": "2022-07-20T14:46:28.787367Z",
     "shell.execute_reply.started": "2022-07-20T14:46:28.779531Z"
    },
    "id": "noGLSMkN5Gav",
    "outputId": "aed53262-db55-43ad-d09b-21a54831509a"
   },
   "outputs": [
    {
     "name": "stdout",
     "output_type": "stream",
     "text": [
      "[[ 1. 59.]\n",
      " [ 2. 71.]\n",
      " [ 3. 48.]]\n"
     ]
    }
   ],
   "source": [
    "unique_wine, wine_class_counts = np.unique(wine_data[:,0], return_counts=True)\n",
    "\n",
    "print(np.asarray((unique_wine, wine_class_counts)).T)"
   ]
  },
  {
   "cell_type": "code",
   "execution_count": 16,
   "metadata": {
    "colab": {
     "base_uri": "https://localhost:8080/",
     "height": 0
    },
    "execution": {
     "iopub.execute_input": "2022-07-20T14:46:28.791653Z",
     "iopub.status.busy": "2022-07-20T14:46:28.791035Z",
     "iopub.status.idle": "2022-07-20T14:46:28.999966Z",
     "shell.execute_reply": "2022-07-20T14:46:28.998116Z",
     "shell.execute_reply.started": "2022-07-20T14:46:28.791602Z"
    },
    "id": "Y6jB-kF35gNI",
    "outputId": "62be568a-e3f0-4d7e-d55f-09d1fcd3c58d"
   },
   "outputs": [
    {
     "data": {
      "text/plain": [
       "<function matplotlib.pyplot.show(close=None, block=None)>"
      ]
     },
     "execution_count": 16,
     "metadata": {},
     "output_type": "execute_result"
    },
    {
     "data": {
      "image/png": "[encoded data removed]",
      "text/plain": [
       "<Figure size 432x288 with 1 Axes>"
      ]
     },
     "metadata": {
      "needs_background": "light"
     },
     "output_type": "display_data"
    }
   ],
   "source": [
    "# Plot frequency of each wine class in the dataset\n",
    "\n",
    "plt.bar(unique_wine, wine_class_counts, width=0.5, tick_label=[1,2,3])\n",
    "\n",
    "# Format plot\n",
    "plt.xlabel(\"Wine class label\")\n",
    "plt.title(\"Count of each wine class in dataset\")\n",
    "\n",
    "\n",
    "## Display the visualization of the Confusion Matrix.        \n",
    "plt.show"
   ]
  },
  {
   "cell_type": "markdown",
   "metadata": {
    "id": "N8CeLbv9_6EI"
   },
   "source": [
    "### Preprocess data and convert to LibSVM format"
   ]
  },
  {
   "cell_type": "code",
   "execution_count": 17,
   "metadata": {
    "execution": {
     "iopub.execute_input": "2022-07-20T14:46:29.001508Z",
     "iopub.status.busy": "2022-07-20T14:46:29.001191Z",
     "iopub.status.idle": "2022-07-20T14:46:29.013243Z",
     "shell.execute_reply": "2022-07-20T14:46:29.011625Z",
     "shell.execute_reply.started": "2022-07-20T14:46:29.001466Z"
    },
    "id": "-30F6WVKfQQK"
   },
   "outputs": [],
   "source": [
    "# Adding count, beginning from 1, to features for each row\n",
    "\n",
    "with_features_index = []\n",
    "data_with_features_index = []\n",
    "\n",
    "for j in range(len(wine_data)):\n",
    "  each_row = wine_data[j,0:]\n",
    "  \n",
    "  with_features_index.append(each_row[0])\n",
    "\n",
    "  for l in range(1,14):\n",
    "    with_features_index.append(str(l)+ \":\" + str(each_row[l]))\n",
    "    \n",
    "  data_with_features_index.append(with_features_index)  \n",
    "  with_features_index = []"
   ]
  },
  {
   "cell_type": "code",
   "execution_count": 18,
   "metadata": {
    "colab": {
     "base_uri": "https://localhost:8080/"
    },
    "execution": {
     "iopub.execute_input": "2022-07-20T14:46:29.015799Z",
     "iopub.status.busy": "2022-07-20T14:46:29.015176Z",
     "iopub.status.idle": "2022-07-20T14:46:29.026526Z",
     "shell.execute_reply": "2022-07-20T14:46:29.025119Z",
     "shell.execute_reply.started": "2022-07-20T14:46:29.015752Z"
    },
    "id": "LcyEp4i1hBZU",
    "outputId": "131d263c-e279-4a74-c60e-b4688be18484"
   },
   "outputs": [
    {
     "data": {
      "text/plain": [
       "[[1.0,\n",
       "  '1:14.23',\n",
       "  '2:1.71',\n",
       "  '3:2.43',\n",
       "  '4:15.6',\n",
       "  '5:127.0',\n",
       "  '6:2.8',\n",
       "  '7:3.06',\n",
       "  '8:0.28',\n",
       "  '9:2.29',\n",
       "  '10:5.64',\n",
       "  '11:1.04',\n",
       "  '12:3.92',\n",
       "  '13:1065.0'],\n",
       " [1.0,\n",
       "  '1:13.2',\n",
       "  '2:1.78',\n",
       "  '3:2.14',\n",
       "  '4:11.2',\n",
       "  '5:100.0',\n",
       "  '6:2.65',\n",
       "  '7:2.76',\n",
       "  '8:0.26',\n",
       "  '9:1.28',\n",
       "  '10:4.38',\n",
       "  '11:1.05',\n",
       "  '12:3.4',\n",
       "  '13:1050.0']]"
      ]
     },
     "execution_count": 18,
     "metadata": {},
     "output_type": "execute_result"
    }
   ],
   "source": [
    "# Checking the first two rows of the data to validate format\n",
    "\n",
    "data_with_features_index[:2]"
   ]
  },
  {
   "cell_type": "code",
   "execution_count": 19,
   "metadata": {
    "execution": {
     "iopub.execute_input": "2022-07-20T14:46:29.028027Z",
     "iopub.status.busy": "2022-07-20T14:46:29.027773Z",
     "iopub.status.idle": "2022-07-20T14:46:29.035931Z",
     "shell.execute_reply": "2022-07-20T14:46:29.034629Z",
     "shell.execute_reply.started": "2022-07-20T14:46:29.028003Z"
    },
    "id": "ETr8jgHosl5B"
   },
   "outputs": [],
   "source": [
    "# Split into train and test datasets\n",
    "\n",
    "train_data, test_data = train_test_split(data_with_features_index, test_size=0.33, random_state=42)\n",
    "train_data = np.asarray(train_data)\n",
    "test_data = np.asarray(test_data)"
   ]
  },
  {
   "cell_type": "code",
   "execution_count": 20,
   "metadata": {
    "colab": {
     "base_uri": "https://localhost:8080/"
    },
    "execution": {
     "iopub.execute_input": "2022-07-20T14:46:29.038427Z",
     "iopub.status.busy": "2022-07-20T14:46:29.037884Z",
     "iopub.status.idle": "2022-07-20T14:46:29.050274Z",
     "shell.execute_reply": "2022-07-20T14:46:29.048542Z",
     "shell.execute_reply.started": "2022-07-20T14:46:29.038377Z"
    },
    "id": "Kpj1A1PRot_y",
    "outputId": "4faf4c74-b4c7-434b-85fc-61caf19573e9"
   },
   "outputs": [
    {
     "data": {
      "text/plain": [
       "array([1., 1., 3., 1., 2., 1., 2., 3., 2., 3., 1., 3., 1., 2., 1., 2., 2.,\n",
       "       2., 1., 2., 1., 2., 2., 3., 3., 3., 2., 2., 2., 1., 1., 2., 3., 1.,\n",
       "       1., 1., 3., 3., 2., 3., 1., 2., 2., 2., 3., 1., 2., 2., 3., 1., 2.,\n",
       "       1., 1., 3., 3., 2., 2., 1., 2.], dtype=float32)"
      ]
     },
     "execution_count": 20,
     "metadata": {},
     "output_type": "execute_result"
    }
   ],
   "source": [
    "# Get y_label from test data to compare against model result later\n",
    "\n",
    "y_label = np.array(test_data[:,0], dtype=np.float32)\n",
    "y_label"
   ]
  },
  {
   "cell_type": "code",
   "execution_count": 21,
   "metadata": {
    "colab": {
     "base_uri": "https://localhost:8080/"
    },
    "execution": {
     "iopub.execute_input": "2022-07-20T14:46:29.052873Z",
     "iopub.status.busy": "2022-07-20T14:46:29.052328Z",
     "iopub.status.idle": "2022-07-20T14:46:29.060041Z",
     "shell.execute_reply": "2022-07-20T14:46:29.058741Z",
     "shell.execute_reply.started": "2022-07-20T14:46:29.052825Z"
    },
    "id": "lxsN0f86tRxh",
    "outputId": "b0245787-a691-4627-e1fd-a3f9859c4b45"
   },
   "outputs": [
    {
     "name": "stdout",
     "output_type": "stream",
     "text": [
      "119\n",
      "59\n"
     ]
    }
   ],
   "source": [
    "# Size of train and test datasets\n",
    "\n",
    "print(len(train_data))\n",
    "print(len(test_data))"
   ]
  },
  {
   "cell_type": "code",
   "execution_count": 22,
   "metadata": {
    "execution": {
     "iopub.execute_input": "2022-07-20T14:46:29.062523Z",
     "iopub.status.busy": "2022-07-20T14:46:29.061873Z",
     "iopub.status.idle": "2022-07-20T14:46:29.116985Z",
     "shell.execute_reply": "2022-07-20T14:46:29.115089Z",
     "shell.execute_reply.started": "2022-07-20T14:46:29.062523Z"
    },
    "id": "FC-88zkNj0-X"
   },
   "outputs": [],
   "source": [
    "# Save train and test data to files\n",
    "\n",
    "np.savetxt('wine_svm_train_data', train_data, delimiter=\" \", fmt=\"%s\") \n",
    "np.savetxt('wine_svm_test_data', test_data, delimiter=\" \", fmt=\"%s\") "
   ]
  },
  {
   "cell_type": "markdown",
   "metadata": {
    "id": "CC9HM4KsBIsz"
   },
   "source": [
    "### Train model"
   ]
  },
  {
   "cell_type": "code",
   "execution_count": 23,
   "metadata": {
    "execution": {
     "iopub.execute_input": "2022-07-20T14:46:29.119865Z",
     "iopub.status.busy": "2022-07-20T14:46:29.119290Z",
     "iopub.status.idle": "2022-07-20T14:46:29.127923Z",
     "shell.execute_reply": "2022-07-20T14:46:29.126211Z",
     "shell.execute_reply.started": "2022-07-20T14:46:29.119818Z"
    },
    "id": "j1yaR8usiSJA"
   },
   "outputs": [],
   "source": [
    "# Pointing to SVM executables \n",
    "\n",
    "svmscale_exe = \"libsvm/svm-scale\"\n",
    "svmtrain_exe = \"libsvm/svm-train\"\n",
    "svmpredict_exe = \"libsvm/svm-predict\"\n",
    "grid_py = \"libsvm/tools/grid.py\""
   ]
  },
  {
   "cell_type": "code",
   "execution_count": 24,
   "metadata": {
    "execution": {
     "iopub.execute_input": "2022-07-20T14:46:29.135992Z",
     "iopub.status.busy": "2022-07-20T14:46:29.135201Z",
     "iopub.status.idle": "2022-07-20T14:46:29.163191Z",
     "shell.execute_reply": "2022-07-20T14:46:29.156818Z",
     "shell.execute_reply.started": "2022-07-20T14:46:29.135881Z"
    },
    "id": "4Ix2MvMsiS_0"
   },
   "outputs": [],
   "source": [
    "# Validate location of executables\n",
    "\n",
    "assert os.path.exists(svmscale_exe),\"svm-scale executable not found\"\n",
    "assert os.path.exists(svmtrain_exe),\"svm-train executable not found\"\n",
    "assert os.path.exists(svmpredict_exe),\"svm-predict executable not found\"\n",
    "assert os.path.exists(grid_py),\"grid.py not found\""
   ]
  },
  {
   "cell_type": "code",
   "execution_count": 25,
   "metadata": {
    "execution": {
     "iopub.execute_input": "2022-07-20T14:46:29.165850Z",
     "iopub.status.busy": "2022-07-20T14:46:29.165358Z",
     "iopub.status.idle": "2022-07-20T14:46:29.186848Z",
     "shell.execute_reply": "2022-07-20T14:46:29.185202Z",
     "shell.execute_reply.started": "2022-07-20T14:46:29.165798Z"
    },
    "id": "JiJ-8Q-xhETk"
   },
   "outputs": [],
   "source": [
    "# Function to scale, train, and test model\n",
    "\n",
    "def svm_model(train_pathname, test_pathname):\n",
    "\n",
    "  # Validate that train and test files exist\n",
    "  assert os.path.exists(train_pathname),\"training file not found\"\n",
    "  file_name = os.path.split(train_pathname)[1]\n",
    "\n",
    "  # Create files to store scaled train data, range metadata for scaled data, and trained model\n",
    "  scaled_file = file_name + \".scale\"\n",
    "  model_file = file_name + \".model\"\n",
    "  range_file = file_name + \".range\" # store scale range for train data to be used to scale test data\n",
    "\n",
    "  file_name = os.path.split(test_pathname)[1]\n",
    "  assert os.path.exists(test_pathname),\"testing file not found\"\n",
    "\n",
    "  # Create file for scaled test data and predicted output\n",
    "  scaled_test_file = file_name + \".scale\"\n",
    "  predict_test_file = file_name + \".predict\"\n",
    "\n",
    "  # Scaling by range [-1, 1]\n",
    "  cmd = '{0} -l {4} -u {5} -s \"{1}\" \"{2}\" > \"{3}\"'.format(svmscale_exe, range_file, train_pathname, scaled_file, -1, 1)\n",
    "  print('Scaling train data')\n",
    "  Popen(cmd, shell = True, stdout = PIPE).communicate()\n",
    "\n",
    "  # Tuning c and g hyperparameters using a 5-fold grid search\n",
    "  cmd = '{0} -v {4} -svmtrain \"{1}\" -gnuplot \"{2}\" \"{3}\"'.format(grid_py, svmtrain_exe, \"null\", scaled_file, 5)\n",
    "  print('Cross validation')\n",
    "  f = Popen(cmd, shell = True, stdout = PIPE).stdout\n",
    "\n",
    "  line = ''\n",
    "  while True:\n",
    "      last_line = line\n",
    "      line = f.readline()\n",
    "      if not line: break\n",
    "  c,g,rate = map(float,last_line.split())\n",
    "\n",
    "  print('Best c={0}, g={1} CV rate={2}'.format(c,g,rate))\n",
    "\n",
    "  cmd = '{0} -c {1} -g {2} \"{3}\" \"{4}\"'.format(svmtrain_exe,c,g,scaled_file,model_file)\n",
    "  print('Training model')\n",
    "  Popen(cmd, shell = True, stdout = PIPE).communicate()\n",
    "\n",
    "  print('Output model: {0}'.format(model_file))\n",
    "\n",
    "  cmd = '{0} -l {4} -u {5} -r \"{1}\" \"{2}\" > \"{3}\"'.format(svmscale_exe, range_file, test_pathname, scaled_test_file, -1, 1)\n",
    "  print('Scaling test data')\n",
    "  Popen(cmd, shell = True, stdout = PIPE).communicate()\n",
    "\n",
    "  cmd = '{0} \"{1}\" \"{2}\" \"{3}\"'.format(svmpredict_exe, scaled_test_file, model_file, predict_test_file)\n",
    "  print('Testing model\\n')\n",
    "  f = Popen(cmd, shell = True, stdout = PIPE).stdout\n",
    "  result = (str(f.readline()).replace(\"\\\\n'\", '')).replace(\"b'\", '')\n",
    "  print(\"{} \\n\".format(result))\n",
    "\n",
    "  print('Output prediction: {0}'.format(predict_test_file))"
   ]
  },
  {
   "cell_type": "markdown",
   "metadata": {
    "id": "htQOQawkB6_E"
   },
   "source": [
    "### Run model"
   ]
  },
  {
   "cell_type": "code",
   "execution_count": 26,
   "metadata": {
    "execution": {
     "iopub.execute_input": "2022-07-20T14:46:29.189274Z",
     "iopub.status.busy": "2022-07-20T14:46:29.188662Z",
     "iopub.status.idle": "2022-07-20T14:46:29.199244Z",
     "shell.execute_reply": "2022-07-20T14:46:29.197651Z",
     "shell.execute_reply.started": "2022-07-20T14:46:29.189274Z"
    },
    "id": "bKPJpddlkTT_"
   },
   "outputs": [],
   "source": [
    "# Read in train and test files saved earlier\n",
    "\n",
    "wine_svm_data_train_file = os.path.join(os.getcwd(),'wine_svm_train_data')\n",
    "wine_svm_data_test_file = os.path.join(os.getcwd(),'wine_svm_test_data')"
   ]
  },
  {
   "cell_type": "code",
   "execution_count": 27,
   "metadata": {
    "colab": {
     "base_uri": "https://localhost:8080/"
    },
    "execution": {
     "iopub.execute_input": "2022-07-20T14:46:29.201478Z",
     "iopub.status.busy": "2022-07-20T14:46:29.200940Z",
     "iopub.status.idle": "2022-07-20T14:46:31.234949Z",
     "shell.execute_reply": "2022-07-20T14:46:31.232693Z",
     "shell.execute_reply.started": "2022-07-20T14:46:29.201436Z"
    },
    "id": "gXJ-yDz4kHJi",
    "outputId": "49d9204e-a5e1-4c1b-dcd5-e9ca3d7fe5aa"
   },
   "outputs": [
    {
     "name": "stdout",
     "output_type": "stream",
     "text": [
      "Scaling train data\n",
      "Cross validation\n",
      "Best c=2048.0, g=0.00048828125 CV rate=97.479\n",
      "Training model\n",
      "Output model: wine_svm_train_data.model\n",
      "Scaling test data\n",
      "Testing model\n",
      "\n",
      "Accuracy = 98.3051% (58/59) (classification) \n",
      "\n",
      "Output prediction: wine_svm_test_data.predict\n"
     ]
    }
   ],
   "source": [
    "# Predict on test data using model trained on train data\n",
    "\n",
    "svm_model(wine_svm_data_train_file, wine_svm_data_test_file)"
   ]
  },
  {
   "cell_type": "markdown",
   "metadata": {
    "id": "ftQAS93dB4AO"
   },
   "source": [
    "### Evaluate model performance"
   ]
  },
  {
   "cell_type": "code",
   "execution_count": 28,
   "metadata": {
    "execution": {
     "iopub.execute_input": "2022-07-20T14:46:31.238596Z",
     "iopub.status.busy": "2022-07-20T14:46:31.237913Z",
     "iopub.status.idle": "2022-07-20T14:46:31.250426Z",
     "shell.execute_reply": "2022-07-20T14:46:31.248617Z",
     "shell.execute_reply.started": "2022-07-20T14:46:31.238485Z"
    },
    "id": "LGF-C3DYw8wJ"
   },
   "outputs": [],
   "source": [
    "def evaluate_model(y_label, predict_test_file):\n",
    "\n",
    "\n",
    "  # Creating the y_label for the confusion matrix\n",
    "  f=open(predict_test_file,'r')\n",
    "  y_pred = np.genfromtxt(f,dtype = 'float')\n",
    "\n",
    "  # Confusion matrix\n",
    "  cf_matrix = confusion_matrix(y_label, y_pred)\n",
    "\n",
    "  # Plot heatmap\n",
    "  ax = sns.heatmap(cf_matrix/np.sum(cf_matrix), annot=True, \n",
    "          fmt='.2%', cmap='Blues')\n",
    "\n",
    "  # Format plot\n",
    "  ax.set_title('Seaborn Confusion Matrix with wine class labels\\n\\n');\n",
    "  ax.set_xlabel('\\nPredicted action')\n",
    "  ax.set_ylabel('Actual action ');\n",
    "\n",
    "  # Ticket labels - List must be in alphabetical order\n",
    "  ax.xaxis.set_ticklabels(['1', '2', '3'])\n",
    "  ax.yaxis.set_ticklabels(['1', '2', '3'])\n",
    "\n",
    "  # Display the visualization of the Confusion Matrix.\n",
    "  plt.show()"
   ]
  },
  {
   "cell_type": "code",
   "execution_count": 29,
   "metadata": {
    "colab": {
     "base_uri": "https://localhost:8080/",
     "height": 337
    },
    "execution": {
     "iopub.execute_input": "2022-07-20T14:46:31.253424Z",
     "iopub.status.busy": "2022-07-20T14:46:31.252996Z",
     "iopub.status.idle": "2022-07-20T14:46:31.601471Z",
     "shell.execute_reply": "2022-07-20T14:46:31.600007Z",
     "shell.execute_reply.started": "2022-07-20T14:46:31.253387Z"
    },
    "id": "m3n16yf3CvOu",
    "outputId": "56a70202-8ec1-4118-c356-3f5d0d82fb1f"
   },
   "outputs": [
    {
     "data": {
      "image/png": "[encoded data removed]",
      "text/plain": [
       "<Figure size 432x288 with 2 Axes>"
      ]
     },
     "metadata": {
      "needs_background": "light"
     },
     "output_type": "display_data"
    }
   ],
   "source": [
    "evaluate_model(y_label, 'wine_svm_test_data.predict')"
   ]
  }
 ],
 "metadata": {
  "colab": {
   "collapsed_sections": [
    "FHsOsqZ9_Ocz",
    "OfDWcp3P_aRa",
    "zaU7QssX_pLD"
   ],
   "name": "Wine_multiclass_libsvm.ipynb",
   "provenance": []
  },
  "kernelspec": {
   "display_name": "Python 3 (ipykernel)",
   "language": "python",
   "name": "python3"
  },
  "language_info": {
   "codemirror_mode": {
    "name": "ipython",
    "version": 3
   },
   "file_extension": ".py",
   "mimetype": "text/x-python",
   "name": "python",
   "nbconvert_exporter": "python",
   "pygments_lexer": "ipython3",
   "version": "3.9.13"
  }
 },
 "nbformat": 4,
 "nbformat_minor": 4
}
